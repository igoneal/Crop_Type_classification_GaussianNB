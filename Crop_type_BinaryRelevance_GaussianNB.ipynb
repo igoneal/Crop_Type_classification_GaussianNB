{
 "cells": [
  {
   "cell_type": "code",
   "execution_count": 1,
   "id": "8aee12be",
   "metadata": {},
   "outputs": [],
   "source": [
    "from sklearn.datasets import make_multilabel_classification\n",
    "from sklearn.model_selection import cross_val_score, KFold\n",
    "\n",
    "from sklearn.datasets import make_classification\n",
    "from sklearn.metrics import confusion_matrix\n",
    "from sklearn.metrics import classification_report\n",
    "import pandas as pd\n",
    "import numpy as np\n",
    "from sklearn.model_selection import train_test_split\n",
    "from skmultilearn.adapt import MLkNN\n",
    "from sklearn.metrics import hamming_loss, accuracy_score\n",
    "from sklearn.naive_bayes import GaussianNB\n",
    "from skmultilearn.problem_transform import BinaryRelevance\n",
    "from skmultilearn.problem_transform import ClassifierChain\n",
    "from skmultilearn.problem_transform import LabelPowerset\n",
    "import matplotlib.pyplot as plt\n",
    "import seaborn as sns\n",
    "from sklearn import preprocessing"
   ]
  },
  {
   "cell_type": "code",
   "execution_count": 2,
   "id": "76942b62",
   "metadata": {},
   "outputs": [],
   "source": [
    "# loading Crop Dataset dataset\n",
    "dataset = pd.read_csv(\"Crop_encoded_Artharva_Catboost.csv\")\n",
    "X = dataset.iloc[:,0:7].values\n",
    "y = dataset.iloc[:,7].values\n",
    "#x.shape\n",
    "#convert y values to categorical values\n",
    "lab = preprocessing.LabelEncoder()\n",
    "y_transformed = lab.fit_transform(y)\n",
    "# this will generate a random multi-label dataset\n",
    "X, y = make_multilabel_classification(sparse = True, n_labels = 20,return_indicator = 'dense', allow_unlabeled = False)"
   ]
  },
  {
   "cell_type": "code",
   "execution_count": 3,
   "id": "636be690",
   "metadata": {},
   "outputs": [],
   "source": [
    "# splitting the data to training and testing data set\n",
    "X_train, X_test, y_train, y_test = train_test_split(X, y, test_size=0.20, random_state=0)"
   ]
  },
  {
   "cell_type": "code",
   "execution_count": 4,
   "id": "ccb076b3",
   "metadata": {},
   "outputs": [],
   "source": [
    "# using binary relevance\n",
    "# initialize binary relevance multi-label classifier\n",
    "# with a gaussian naive bayes base classifier\n",
    "classifier = BinaryRelevance(GaussianNB())\n",
    "# Perform k-fold cross-validation\n",
    "kf = KFold(n_splits=5, shuffle=True, random_state=42)\n",
    "\n",
    "\n",
    "for train_index, test_index in kf.split(X):\n",
    "    X_train, X_test = X[train_index], X[test_index]\n",
    "    y_train, y_test = y[train_index], y[test_index]\n",
    "    \n",
    "    # Fit the model on the training data\n",
    "    classifier.fit(X_train, y_train)\n",
    "# train\n",
    "classifier.fit(X_train, y_train)\n",
    "# predict\n",
    "predictions = classifier.predict(X_test)"
   ]
  },
  {
   "cell_type": "code",
   "execution_count": 5,
   "id": "ddb02c95",
   "metadata": {},
   "outputs": [
    {
     "name": "stdout",
     "output_type": "stream",
     "text": [
      "Binary Relevance GaussianNB Accuracy= 0.8\n",
      "              precision    recall  f1-score   support\n",
      "\n",
      "           0       1.00      1.00      1.00        20\n",
      "           1       0.90      1.00      0.95        18\n",
      "           2       0.90      1.00      0.95        18\n",
      "           3       0.95      1.00      0.97        19\n",
      "           4       1.00      1.00      1.00        20\n",
      "\n",
      "   micro avg       0.95      1.00      0.97        95\n",
      "   macro avg       0.95      1.00      0.97        95\n",
      "weighted avg       0.95      1.00      0.97        95\n",
      " samples avg       0.95      1.00      0.97        95\n",
      "\n"
     ]
    }
   ],
   "source": [
    "#calculate the accuracy of the predictions.\n",
    "accuracy1 = accuracy_score(y_test,predictions)\n",
    "print(\"Binary Relevance GaussianNB Accuracy=\",accuracy1)\n",
    "cr = classification_report(y_test, predictions)\n",
    "print(cr)"
   ]
  },
  {
   "cell_type": "code",
   "execution_count": null,
   "id": "a4692294",
   "metadata": {},
   "outputs": [],
   "source": []
  }
 ],
 "metadata": {
  "kernelspec": {
   "display_name": "Python 3 (ipykernel)",
   "language": "python",
   "name": "python3"
  },
  "language_info": {
   "codemirror_mode": {
    "name": "ipython",
    "version": 3
   },
   "file_extension": ".py",
   "mimetype": "text/x-python",
   "name": "python",
   "nbconvert_exporter": "python",
   "pygments_lexer": "ipython3",
   "version": "3.9.12"
  }
 },
 "nbformat": 4,
 "nbformat_minor": 5
}
